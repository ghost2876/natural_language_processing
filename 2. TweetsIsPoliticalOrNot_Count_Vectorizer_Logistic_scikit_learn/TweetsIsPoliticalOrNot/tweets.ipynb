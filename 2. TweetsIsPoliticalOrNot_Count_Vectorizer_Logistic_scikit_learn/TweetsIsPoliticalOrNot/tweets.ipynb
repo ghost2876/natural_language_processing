{
 "cells": [
  {
   "cell_type": "code",
   "execution_count": 1,
   "metadata": {
    "collapsed": true
   },
   "outputs": [],
   "source": [
    "# Function for reading the Twitter Political Corpus data\n",
    "# Data from https://www.usna.edu/Users/cs/nchamber/data/twitter/\n",
    "def get_data_and_labels(filename):\n",
    "    import pandas as pd\n",
    "    \n",
    "    df = pd.read_csv(filename, header=None, sep='\\t')\n",
    "    x = df.iloc[:,1]\n",
    "    y = df.iloc[:,0]\n",
    "    return x, y"
   ]
  },
  {
   "cell_type": "code",
   "execution_count": 6,
   "metadata": {},
   "outputs": [],
   "source": [
    "# Read data; convert to features and labels\n",
    "train_x, train_y = get_data_and_labels('/Users/dbrizan/Documents/workspace/CS686/general-tweets.txt')\n",
    "test_x, test_y = get_data_and_labels('/Users/dbrizan/Documents/workspace/CS686/keyword-tweets.txt')"
   ]
  },
  {
   "cell_type": "code",
   "execution_count": 7,
   "metadata": {
    "collapsed": true
   },
   "outputs": [],
   "source": [
    "# Function to encode labels\n",
    "# (This should only be done on the train data.)\n",
    "def encode_labels(labels):\n",
    "    from sklearn import preprocessing\n",
    "    \n",
    "    le = preprocessing.LabelEncoder()\n",
    "    le.fit(labels)\n",
    "    return le"
   ]
  },
  {
   "cell_type": "code",
   "execution_count": 9,
   "metadata": {},
   "outputs": [],
   "source": [
    "# Encode the labels:\n",
    "le = encode_labels(train_y)\n",
    "train_targets = le.transform(train_y)\n",
    "test_targets = le.transform(test_y)"
   ]
  },
  {
   "cell_type": "code",
   "execution_count": 14,
   "metadata": {},
   "outputs": [],
   "source": [
    "# Use a count vectorizer to create a bag-of-words model\n",
    "from sklearn.feature_extraction.text import CountVectorizer\n",
    "\n",
    "count_vect = CountVectorizer()\n",
    "x_train_counts = count_vect.fit_transform(train_x).toarray()\n",
    "x_test_counts = count_vect.transform(test_x).toarray()"
   ]
  },
  {
   "cell_type": "code",
   "execution_count": 16,
   "metadata": {},
   "outputs": [
    {
     "name": "stdout",
     "output_type": "stream",
     "text": [
      "('Accuracy:', 0.15618762475049899)\n",
      "('Confusion Matrix:', array([[ 313,    0],\n",
      "       [1691,    0]]))\n"
     ]
    }
   ],
   "source": [
    "# Now with a proper X and Y, we can train on train; test on test\n",
    "\n",
    "from sklearn.linear_model import LogisticRegression\n",
    "from sklearn.metrics import accuracy_score, confusion_matrix\n",
    "\n",
    "clf = LogisticRegression()\n",
    "clf.fit(x_train_counts, train_targets)\n",
    "hyp = clf.predict(x_test_counts)\n",
    "\n",
    "# ... and then determine the performance of the model\n",
    "print('Accuracy:', accuracy_score(test_targets, hyp))\n",
    "print('Confusion Matrix:', confusion_matrix(test_targets, hyp))"
   ]
  },
  {
   "cell_type": "code",
   "execution_count": 17,
   "metadata": {},
   "outputs": [
    {
     "name": "stdout",
     "output_type": "stream",
     "text": [
      "('C=', 0.0001, '... accuracy:', 0.15618762475049899)\n",
      "('C=', 0.001, '... accuracy:', 0.15618762475049899)\n",
      "('C=', 0.01, '... accuracy:', 0.15618762475049899)\n",
      "('C=', 0.1, '... accuracy:', 0.15618762475049899)\n",
      "('C=', 1, '... accuracy:', 0.19960079840319361)\n",
      "('C=', 10, '... accuracy:', 0.26996007984031933)\n",
      "('C=', 100, '... accuracy:', 0.28942115768463073)\n",
      "('C=', 1000, '... accuracy:', 0.28642714570858285)\n",
      "('C=', 10000, '... accuracy:', 0.2345309381237525)\n"
     ]
    }
   ],
   "source": [
    "# Performance is mediocre. Perhaps a penalised model would be better? Try \"L1 norm\" with different values of \"C\"\n",
    "\n",
    "C = [0.0001, 0.001, 0.01, 0.1, 1, 10, 100, 1000, 10000]\n",
    "\n",
    "for c in C:\n",
    "    clf = LogisticRegression(penalty='l1', C=c)\n",
    "    clf.fit(x_train_counts, train_targets)\n",
    "    hyp = clf.predict(x_test_counts)\n",
    "    accuracy = accuracy_score(test_targets, hyp)\n",
    "    print('C=', c, '... accuracy:', accuracy)"
   ]
  },
  {
   "cell_type": "code",
   "execution_count": 19,
   "metadata": {},
   "outputs": [
    {
     "name": "stdout",
     "output_type": "stream",
     "text": [
      "('Confusion Matrix:', array([[ 276,   37],\n",
      "       [1389,  302]]))\n"
     ]
    }
   ],
   "source": [
    "# Confusion matrix for best system of the above\n",
    "clf = LogisticRegression(penalty='l1', C=100)\n",
    "clf.fit(x_train_counts, train_targets)\n",
    "hyp = clf.predict(x_test_counts)\n",
    "print('Confusion Matrix:', confusion_matrix(test_targets, hyp))"
   ]
  },
  {
   "cell_type": "code",
   "execution_count": 21,
   "metadata": {},
   "outputs": [
    {
     "name": "stdout",
     "output_type": "stream",
     "text": [
      "('Accuracy:', 0.28842315369261479)\n"
     ]
    }
   ],
   "source": [
    "# Oh, how about accuracy?\n",
    "print('Accuracy:', accuracy_score(test_targets, hyp))\n",
    "# This is not the best way to way to determine the best value for C.\n",
    "# The best way is to use cross validation. We will cover cross validation later."
   ]
  }
 ],
 "metadata": {
  "anaconda-cloud": {},
  "kernelspec": {
   "display_name": "Python 3",
   "language": "python",
   "name": "python3"
  },
  "language_info": {
   "codemirror_mode": {
    "name": "ipython",
    "version": 3
   },
   "file_extension": ".py",
   "mimetype": "text/x-python",
   "name": "python",
   "nbconvert_exporter": "python",
   "pygments_lexer": "ipython3",
   "version": "3.6.1"
  }
 },
 "nbformat": 4,
 "nbformat_minor": 1
}
